{
 "cells": [
  {
   "cell_type": "markdown",
   "id": "84ee003d",
   "metadata": {
    "papermill": {
     "duration": 0.010108,
     "end_time": "2023-06-26T11:44:50.516125",
     "exception": false,
     "start_time": "2023-06-26T11:44:50.506017",
     "status": "completed"
    },
    "tags": []
   },
   "source": [
    "**This notebook is an exercise in the [Data Visualization](https://www.kaggle.com/learn/data-visualization) course.  You can reference the tutorial at [this link](https://www.kaggle.com/alexisbcook/scatter-plots).**\n",
    "\n",
    "---\n"
   ]
  },
  {
   "cell_type": "markdown",
   "id": "048e5d91",
   "metadata": {
    "papermill": {
     "duration": 0.007487,
     "end_time": "2023-06-26T11:44:50.532110",
     "exception": false,
     "start_time": "2023-06-26T11:44:50.524623",
     "status": "completed"
    },
    "tags": []
   },
   "source": [
    "In this exercise, you will use your new knowledge to propose a solution to a real-world scenario.  To succeed, you will need to import data into Python, answer questions using the data, and generate **scatter plots** to understand patterns in the data.\n",
    "\n",
    "## Scenario\n",
    "\n",
    "You work for a major candy producer, and your goal is to write a report that your company can use to guide the design of its next product.  Soon after starting your research, you stumble across this [very interesting dataset](https://fivethirtyeight.com/features/the-ultimate-halloween-candy-power-ranking/) containing results from a fun survey to crowdsource favorite candies.\n",
    "\n",
    "## Setup\n",
    "\n",
    "Run the next cell to import and configure the Python libraries that you need to complete the exercise."
   ]
  },
  {
   "cell_type": "code",
   "execution_count": 1,
   "id": "57087cce",
   "metadata": {
    "execution": {
     "iopub.execute_input": "2023-06-26T11:44:50.549715Z",
     "iopub.status.busy": "2023-06-26T11:44:50.548610Z",
     "iopub.status.idle": "2023-06-26T11:44:51.891422Z",
     "shell.execute_reply": "2023-06-26T11:44:51.890256Z"
    },
    "papermill": {
     "duration": 1.354514,
     "end_time": "2023-06-26T11:44:51.894308",
     "exception": false,
     "start_time": "2023-06-26T11:44:50.539794",
     "status": "completed"
    },
    "tags": []
   },
   "outputs": [
    {
     "name": "stdout",
     "output_type": "stream",
     "text": [
      "Setup Complete\n"
     ]
    }
   ],
   "source": [
    "import pandas as pd\n",
    "pd.plotting.register_matplotlib_converters()\n",
    "import matplotlib.pyplot as plt\n",
    "%matplotlib inline\n",
    "import seaborn as sns\n",
    "print(\"Setup Complete\")"
   ]
  },
  {
   "cell_type": "markdown",
   "id": "70d0f034",
   "metadata": {
    "papermill": {
     "duration": 0.011562,
     "end_time": "2023-06-26T11:44:51.914739",
     "exception": false,
     "start_time": "2023-06-26T11:44:51.903177",
     "status": "completed"
    },
    "tags": []
   },
   "source": [
    "The questions below will give you feedback on your work. Run the following cell to set up our feedback system."
   ]
  },
  {
   "cell_type": "code",
   "execution_count": 2,
   "id": "a960cfe4",
   "metadata": {
    "execution": {
     "iopub.execute_input": "2023-06-26T11:44:51.940065Z",
     "iopub.status.busy": "2023-06-26T11:44:51.939309Z",
     "iopub.status.idle": "2023-06-26T11:44:52.009065Z",
     "shell.execute_reply": "2023-06-26T11:44:52.007922Z"
    },
    "papermill": {
     "duration": 0.084889,
     "end_time": "2023-06-26T11:44:52.011352",
     "exception": false,
     "start_time": "2023-06-26T11:44:51.926463",
     "status": "completed"
    },
    "tags": []
   },
   "outputs": [
    {
     "name": "stdout",
     "output_type": "stream",
     "text": [
      "Setup Complete\n"
     ]
    }
   ],
   "source": [
    "# Set up code checking\n",
    "import os\n",
    "if not os.path.exists(\"../input/candy.csv\"):\n",
    "    os.symlink(\"../input/data-for-datavis/candy.csv\", \"../input/candy.csv\") \n",
    "from learntools.core import binder\n",
    "binder.bind(globals())\n",
    "from learntools.data_viz_to_coder.ex4 import *\n",
    "print(\"Setup Complete\")"
   ]
  },
  {
   "cell_type": "markdown",
   "id": "6d81c92b",
   "metadata": {
    "papermill": {
     "duration": 0.007664,
     "end_time": "2023-06-26T11:44:52.027228",
     "exception": false,
     "start_time": "2023-06-26T11:44:52.019564",
     "status": "completed"
    },
    "tags": []
   },
   "source": [
    "## Step 1: Load the Data\n",
    "\n",
    "Read the candy data file into `candy_data`.  Use the `\"id\"` column to label the rows."
   ]
  },
  {
   "cell_type": "code",
   "execution_count": null,
   "id": "afb61030",
   "metadata": {
    "papermill": {
     "duration": 0.007586,
     "end_time": "2023-06-26T11:44:52.042889",
     "exception": false,
     "start_time": "2023-06-26T11:44:52.035303",
     "status": "completed"
    },
    "tags": []
   },
   "outputs": [],
   "source": []
  },
  {
   "cell_type": "code",
   "execution_count": null,
   "id": "41d61176",
   "metadata": {
    "papermill": {
     "duration": 0.007518,
     "end_time": "2023-06-26T11:44:52.058282",
     "exception": false,
     "start_time": "2023-06-26T11:44:52.050764",
     "status": "completed"
    },
    "tags": []
   },
   "outputs": [],
   "source": []
  },
  {
   "cell_type": "code",
   "execution_count": 3,
   "id": "b15f1a33",
   "metadata": {
    "execution": {
     "iopub.execute_input": "2023-06-26T11:44:52.076227Z",
     "iopub.status.busy": "2023-06-26T11:44:52.075310Z",
     "iopub.status.idle": "2023-06-26T11:44:52.091746Z",
     "shell.execute_reply": "2023-06-26T11:44:52.090628Z"
    },
    "papermill": {
     "duration": 0.02764,
     "end_time": "2023-06-26T11:44:52.093804",
     "exception": false,
     "start_time": "2023-06-26T11:44:52.066164",
     "status": "completed"
    },
    "tags": []
   },
   "outputs": [
    {
     "data": {
      "application/javascript": [
       "parent.postMessage({\"jupyterEvent\": \"custom.exercise_interaction\", \"data\": {\"outcomeType\": 1, \"valueTowardsCompletion\": 0.3333333333333333, \"interactionType\": 1, \"questionType\": 1, \"questionId\": \"1_LoadData\", \"learnToolsVersion\": \"0.3.4\", \"failureMessage\": \"\", \"exceptionClass\": \"\", \"trace\": \"\"}}, \"*\")"
      ],
      "text/plain": [
       "<IPython.core.display.Javascript object>"
      ]
     },
     "metadata": {},
     "output_type": "display_data"
    },
    {
     "data": {
      "text/markdown": [
       "<span style=\"color:#33cc33\">Correct</span>"
      ],
      "text/plain": [
       "Correct"
      ]
     },
     "metadata": {},
     "output_type": "display_data"
    }
   ],
   "source": [
    "# Path of the file to read\n",
    "candy_filepath = \"../input/candy.csv\"\n",
    "\n",
    "# Fill in the line below to read the file into a variable candy_data\n",
    "candy_data = pd.read_csv(candy_filepath, index_col=\"id\")\n",
    "\n",
    "# Run the line below with no changes to check that you've loaded the data correctly\n",
    "step_1.check()"
   ]
  },
  {
   "cell_type": "code",
   "execution_count": 4,
   "id": "a0c54f02",
   "metadata": {
    "execution": {
     "iopub.execute_input": "2023-06-26T11:44:52.115967Z",
     "iopub.status.busy": "2023-06-26T11:44:52.114213Z",
     "iopub.status.idle": "2023-06-26T11:44:52.119829Z",
     "shell.execute_reply": "2023-06-26T11:44:52.118685Z"
    },
    "papermill": {
     "duration": 0.01971,
     "end_time": "2023-06-26T11:44:52.121859",
     "exception": false,
     "start_time": "2023-06-26T11:44:52.102149",
     "status": "completed"
    },
    "tags": []
   },
   "outputs": [],
   "source": [
    "# Lines below will give you a hint or solution code\n",
    "#step_1.hint()\n",
    "#step_1.solution()"
   ]
  },
  {
   "cell_type": "markdown",
   "id": "93cea015",
   "metadata": {
    "papermill": {
     "duration": 0.008081,
     "end_time": "2023-06-26T11:44:52.138775",
     "exception": false,
     "start_time": "2023-06-26T11:44:52.130694",
     "status": "completed"
    },
    "tags": []
   },
   "source": [
    "## Step 2: Review the data\n",
    "\n",
    "Use a Python command to print the first five rows of the data."
   ]
  },
  {
   "cell_type": "code",
   "execution_count": 5,
   "id": "0c7cf66d",
   "metadata": {
    "execution": {
     "iopub.execute_input": "2023-06-26T11:44:52.157417Z",
     "iopub.status.busy": "2023-06-26T11:44:52.156743Z",
     "iopub.status.idle": "2023-06-26T11:44:52.183051Z",
     "shell.execute_reply": "2023-06-26T11:44:52.181974Z"
    },
    "papermill": {
     "duration": 0.038292,
     "end_time": "2023-06-26T11:44:52.185439",
     "exception": false,
     "start_time": "2023-06-26T11:44:52.147147",
     "status": "completed"
    },
    "tags": []
   },
   "outputs": [
    {
     "data": {
      "text/html": [
       "<div>\n",
       "<style scoped>\n",
       "    .dataframe tbody tr th:only-of-type {\n",
       "        vertical-align: middle;\n",
       "    }\n",
       "\n",
       "    .dataframe tbody tr th {\n",
       "        vertical-align: top;\n",
       "    }\n",
       "\n",
       "    .dataframe thead th {\n",
       "        text-align: right;\n",
       "    }\n",
       "</style>\n",
       "<table border=\"1\" class=\"dataframe\">\n",
       "  <thead>\n",
       "    <tr style=\"text-align: right;\">\n",
       "      <th></th>\n",
       "      <th>competitorname</th>\n",
       "      <th>chocolate</th>\n",
       "      <th>fruity</th>\n",
       "      <th>caramel</th>\n",
       "      <th>peanutyalmondy</th>\n",
       "      <th>nougat</th>\n",
       "      <th>crispedricewafer</th>\n",
       "      <th>hard</th>\n",
       "      <th>bar</th>\n",
       "      <th>pluribus</th>\n",
       "      <th>sugarpercent</th>\n",
       "      <th>pricepercent</th>\n",
       "      <th>winpercent</th>\n",
       "    </tr>\n",
       "    <tr>\n",
       "      <th>id</th>\n",
       "      <th></th>\n",
       "      <th></th>\n",
       "      <th></th>\n",
       "      <th></th>\n",
       "      <th></th>\n",
       "      <th></th>\n",
       "      <th></th>\n",
       "      <th></th>\n",
       "      <th></th>\n",
       "      <th></th>\n",
       "      <th></th>\n",
       "      <th></th>\n",
       "      <th></th>\n",
       "    </tr>\n",
       "  </thead>\n",
       "  <tbody>\n",
       "    <tr>\n",
       "      <th>0</th>\n",
       "      <td>100 Grand</td>\n",
       "      <td>Yes</td>\n",
       "      <td>No</td>\n",
       "      <td>Yes</td>\n",
       "      <td>No</td>\n",
       "      <td>No</td>\n",
       "      <td>Yes</td>\n",
       "      <td>No</td>\n",
       "      <td>Yes</td>\n",
       "      <td>No</td>\n",
       "      <td>0.732</td>\n",
       "      <td>0.860</td>\n",
       "      <td>66.971725</td>\n",
       "    </tr>\n",
       "    <tr>\n",
       "      <th>1</th>\n",
       "      <td>3 Musketeers</td>\n",
       "      <td>Yes</td>\n",
       "      <td>No</td>\n",
       "      <td>No</td>\n",
       "      <td>No</td>\n",
       "      <td>Yes</td>\n",
       "      <td>No</td>\n",
       "      <td>No</td>\n",
       "      <td>Yes</td>\n",
       "      <td>No</td>\n",
       "      <td>0.604</td>\n",
       "      <td>0.511</td>\n",
       "      <td>67.602936</td>\n",
       "    </tr>\n",
       "    <tr>\n",
       "      <th>2</th>\n",
       "      <td>Air Heads</td>\n",
       "      <td>No</td>\n",
       "      <td>Yes</td>\n",
       "      <td>No</td>\n",
       "      <td>No</td>\n",
       "      <td>No</td>\n",
       "      <td>No</td>\n",
       "      <td>No</td>\n",
       "      <td>No</td>\n",
       "      <td>No</td>\n",
       "      <td>0.906</td>\n",
       "      <td>0.511</td>\n",
       "      <td>52.341465</td>\n",
       "    </tr>\n",
       "    <tr>\n",
       "      <th>3</th>\n",
       "      <td>Almond Joy</td>\n",
       "      <td>Yes</td>\n",
       "      <td>No</td>\n",
       "      <td>No</td>\n",
       "      <td>Yes</td>\n",
       "      <td>No</td>\n",
       "      <td>No</td>\n",
       "      <td>No</td>\n",
       "      <td>Yes</td>\n",
       "      <td>No</td>\n",
       "      <td>0.465</td>\n",
       "      <td>0.767</td>\n",
       "      <td>50.347546</td>\n",
       "    </tr>\n",
       "    <tr>\n",
       "      <th>4</th>\n",
       "      <td>Baby Ruth</td>\n",
       "      <td>Yes</td>\n",
       "      <td>No</td>\n",
       "      <td>Yes</td>\n",
       "      <td>Yes</td>\n",
       "      <td>Yes</td>\n",
       "      <td>No</td>\n",
       "      <td>No</td>\n",
       "      <td>Yes</td>\n",
       "      <td>No</td>\n",
       "      <td>0.604</td>\n",
       "      <td>0.767</td>\n",
       "      <td>56.914547</td>\n",
       "    </tr>\n",
       "  </tbody>\n",
       "</table>\n",
       "</div>"
      ],
      "text/plain": [
       "   competitorname chocolate fruity caramel peanutyalmondy nougat  \\\n",
       "id                                                                 \n",
       "0       100 Grand       Yes     No     Yes             No     No   \n",
       "1    3 Musketeers       Yes     No      No             No    Yes   \n",
       "2       Air Heads        No    Yes      No             No     No   \n",
       "3      Almond Joy       Yes     No      No            Yes     No   \n",
       "4       Baby Ruth       Yes     No     Yes            Yes    Yes   \n",
       "\n",
       "   crispedricewafer hard  bar pluribus  sugarpercent  pricepercent  winpercent  \n",
       "id                                                                              \n",
       "0               Yes   No  Yes       No         0.732         0.860   66.971725  \n",
       "1                No   No  Yes       No         0.604         0.511   67.602936  \n",
       "2                No   No   No       No         0.906         0.511   52.341465  \n",
       "3                No   No  Yes       No         0.465         0.767   50.347546  \n",
       "4                No   No  Yes       No         0.604         0.767   56.914547  "
      ]
     },
     "execution_count": 5,
     "metadata": {},
     "output_type": "execute_result"
    }
   ],
   "source": [
    "# Print the first five rows of the data\n",
    "candy_data.head() # Your code here"
   ]
  },
  {
   "cell_type": "markdown",
   "id": "f26b0af2",
   "metadata": {
    "papermill": {
     "duration": 0.008896,
     "end_time": "2023-06-26T11:44:52.203165",
     "exception": false,
     "start_time": "2023-06-26T11:44:52.194269",
     "status": "completed"
    },
    "tags": []
   },
   "source": [
    "The dataset contains 83 rows, where each corresponds to a different candy bar.  There are 13 columns:\n",
    "- `'competitorname'` contains the name of the candy bar. \n",
    "- the next **9** columns (from `'chocolate'` to `'pluribus'`) describe the candy.  For instance, rows with chocolate candies have `\"Yes\"` in the `'chocolate'` column (and candies without chocolate have `\"No\"` in the same column).\n",
    "- `'sugarpercent'` provides some indication of the amount of sugar, where higher values signify higher sugar content.\n",
    "- `'pricepercent'` shows the price per unit, relative to the other candies in the dataset.\n",
    "- `'winpercent'` is calculated from the survey results; higher values indicate that the candy was more popular with survey respondents.\n",
    "\n",
    "Use the first five rows of the data to answer the questions below."
   ]
  },
  {
   "cell_type": "code",
   "execution_count": 6,
   "id": "b36fc92c",
   "metadata": {
    "execution": {
     "iopub.execute_input": "2023-06-26T11:44:52.223068Z",
     "iopub.status.busy": "2023-06-26T11:44:52.222015Z",
     "iopub.status.idle": "2023-06-26T11:44:52.229527Z",
     "shell.execute_reply": "2023-06-26T11:44:52.228756Z"
    },
    "papermill": {
     "duration": 0.019101,
     "end_time": "2023-06-26T11:44:52.231342",
     "exception": false,
     "start_time": "2023-06-26T11:44:52.212241",
     "status": "completed"
    },
    "tags": []
   },
   "outputs": [
    {
     "data": {
      "application/javascript": [
       "parent.postMessage({\"jupyterEvent\": \"custom.exercise_interaction\", \"data\": {\"outcomeType\": 1, \"valueTowardsCompletion\": 0.3333333333333333, \"interactionType\": 1, \"questionType\": 1, \"questionId\": \"2_ReviewData\", \"learnToolsVersion\": \"0.3.4\", \"failureMessage\": \"\", \"exceptionClass\": \"\", \"trace\": \"\"}}, \"*\")"
      ],
      "text/plain": [
       "<IPython.core.display.Javascript object>"
      ]
     },
     "metadata": {},
     "output_type": "display_data"
    },
    {
     "data": {
      "text/markdown": [
       "<span style=\"color:#33cc33\">Correct</span>"
      ],
      "text/plain": [
       "Correct"
      ]
     },
     "metadata": {},
     "output_type": "display_data"
    }
   ],
   "source": [
    "# Fill in the line below: Which candy was more popular with survey respondents:\n",
    "# '3 Musketeers' or 'Almond Joy'?  (Please enclose your answer in single quotes.)\n",
    "more_popular = '3 Musketeers'\n",
    "\n",
    "# Fill in the line below: Which candy has higher sugar content: 'Air Heads'\n",
    "# or 'Baby Ruth'? (Please enclose your answer in single quotes.)\n",
    "more_sugar = 'Air Heads'\n",
    "\n",
    "# Check your answers\n",
    "step_2.check()"
   ]
  },
  {
   "cell_type": "code",
   "execution_count": 7,
   "id": "a1427be7",
   "metadata": {
    "execution": {
     "iopub.execute_input": "2023-06-26T11:44:52.251898Z",
     "iopub.status.busy": "2023-06-26T11:44:52.251274Z",
     "iopub.status.idle": "2023-06-26T11:44:52.255540Z",
     "shell.execute_reply": "2023-06-26T11:44:52.254522Z"
    },
    "papermill": {
     "duration": 0.016753,
     "end_time": "2023-06-26T11:44:52.257432",
     "exception": false,
     "start_time": "2023-06-26T11:44:52.240679",
     "status": "completed"
    },
    "tags": []
   },
   "outputs": [],
   "source": [
    "# Lines below will give you a hint or solution code\n",
    "#step_2.hint()\n",
    "#step_2.solution()"
   ]
  },
  {
   "cell_type": "markdown",
   "id": "330913a5",
   "metadata": {
    "papermill": {
     "duration": 0.008618,
     "end_time": "2023-06-26T11:44:52.274928",
     "exception": false,
     "start_time": "2023-06-26T11:44:52.266310",
     "status": "completed"
    },
    "tags": []
   },
   "source": [
    "## Step 3: The role of sugar\n",
    "\n",
    "Do people tend to prefer candies with higher sugar content?  \n",
    "\n",
    "#### Part A\n",
    "\n",
    "Create a scatter plot that shows the relationship between `'sugarpercent'` (on the horizontal x-axis) and `'winpercent'` (on the vertical y-axis).  _Don't add a regression line just yet -- you'll do that in the next step!_"
   ]
  },
  {
   "cell_type": "code",
   "execution_count": 8,
   "id": "f082749c",
   "metadata": {
    "execution": {
     "iopub.execute_input": "2023-06-26T11:44:52.294638Z",
     "iopub.status.busy": "2023-06-26T11:44:52.294051Z",
     "iopub.status.idle": "2023-06-26T11:44:52.572706Z",
     "shell.execute_reply": "2023-06-26T11:44:52.571504Z"
    },
    "papermill": {
     "duration": 0.291107,
     "end_time": "2023-06-26T11:44:52.574952",
     "exception": false,
     "start_time": "2023-06-26T11:44:52.283845",
     "status": "completed"
    },
    "tags": []
   },
   "outputs": [
    {
     "data": {
      "application/javascript": [
       "parent.postMessage({\"jupyterEvent\": \"custom.exercise_interaction\", \"data\": {\"outcomeType\": 1, \"valueTowardsCompletion\": 0.3333333333333333, \"interactionType\": 1, \"questionType\": 2, \"questionId\": \"3.1_PlotBlueScatter\", \"learnToolsVersion\": \"0.3.4\", \"failureMessage\": \"\", \"exceptionClass\": \"\", \"trace\": \"\"}}, \"*\")"
      ],
      "text/plain": [
       "<IPython.core.display.Javascript object>"
      ]
     },
     "metadata": {},
     "output_type": "display_data"
    },
    {
     "data": {
      "text/markdown": [
       "<span style=\"color:#33cc33\">Correct</span>"
      ],
      "text/plain": [
       "Correct"
      ]
     },
     "metadata": {},
     "output_type": "display_data"
    },
    {
     "data": {
      "image/png": "[encoded data removed]",
      "text/plain": [
       "<Figure size 640x480 with 1 Axes>"
      ]
     },
     "metadata": {},
     "output_type": "display_data"
    }
   ],
   "source": [
    "# Scatter plot showing the relationship between 'sugarpercent' and 'winpercent'\n",
    "# Your code here\n",
    "sns.scatterplot(x=candy_data['sugarpercent'], y=candy_data['winpercent'])\n",
    "\n",
    "# Check your answer\n",
    "step_3.a.check()"
   ]
  },
  {
   "cell_type": "code",
   "execution_count": 9,
   "id": "e8c36817",
   "metadata": {
    "execution": {
     "iopub.execute_input": "2023-06-26T11:44:52.596357Z",
     "iopub.status.busy": "2023-06-26T11:44:52.595334Z",
     "iopub.status.idle": "2023-06-26T11:44:52.599929Z",
     "shell.execute_reply": "2023-06-26T11:44:52.599230Z"
    },
    "papermill": {
     "duration": 0.017128,
     "end_time": "2023-06-26T11:44:52.601800",
     "exception": false,
     "start_time": "2023-06-26T11:44:52.584672",
     "status": "completed"
    },
    "tags": []
   },
   "outputs": [],
   "source": [
    "# Lines below will give you a hint or solution code\n",
    "#step_3.a.hint()\n",
    "#step_3.a.solution_plot()"
   ]
  },
  {
   "cell_type": "markdown",
   "id": "442f2de9",
   "metadata": {
    "papermill": {
     "duration": 0.009009,
     "end_time": "2023-06-26T11:44:52.620310",
     "exception": false,
     "start_time": "2023-06-26T11:44:52.611301",
     "status": "completed"
    },
    "tags": []
   },
   "source": [
    "#### Part B\n",
    "\n",
    "Does the scatter plot show a **strong** correlation between the two variables?  If so, are candies with more sugar relatively more or less popular with the survey respondents?"
   ]
  },
  {
   "cell_type": "code",
   "execution_count": 10,
   "id": "7e551b2e",
   "metadata": {
    "execution": {
     "iopub.execute_input": "2023-06-26T11:44:52.640810Z",
     "iopub.status.busy": "2023-06-26T11:44:52.640044Z",
     "iopub.status.idle": "2023-06-26T11:44:52.644254Z",
     "shell.execute_reply": "2023-06-26T11:44:52.643358Z"
    },
    "papermill": {
     "duration": 0.016454,
     "end_time": "2023-06-26T11:44:52.646110",
     "exception": false,
     "start_time": "2023-06-26T11:44:52.629656",
     "status": "completed"
    },
    "tags": []
   },
   "outputs": [],
   "source": [
    "#step_3.b.hint()"
   ]
  },
  {
   "cell_type": "code",
   "execution_count": 11,
   "id": "8e7547c9",
   "metadata": {
    "execution": {
     "iopub.execute_input": "2023-06-26T11:44:52.666505Z",
     "iopub.status.busy": "2023-06-26T11:44:52.666140Z",
     "iopub.status.idle": "2023-06-26T11:44:52.673962Z",
     "shell.execute_reply": "2023-06-26T11:44:52.673294Z"
    },
    "papermill": {
     "duration": 0.019989,
     "end_time": "2023-06-26T11:44:52.675777",
     "exception": false,
     "start_time": "2023-06-26T11:44:52.655788",
     "status": "completed"
    },
    "tags": []
   },
   "outputs": [
    {
     "data": {
      "application/javascript": [
       "parent.postMessage({\"jupyterEvent\": \"custom.exercise_interaction\", \"data\": {\"interactionType\": 3, \"questionType\": 4, \"questionId\": \"3.2_ThinkBlueScatter\", \"learnToolsVersion\": \"0.3.4\", \"valueTowardsCompletion\": 0.0, \"failureMessage\": \"\", \"exceptionClass\": \"\", \"trace\": \"\", \"outcomeType\": 4}}, \"*\")"
      ],
      "text/plain": [
       "<IPython.core.display.Javascript object>"
      ]
     },
     "metadata": {},
     "output_type": "display_data"
    },
    {
     "data": {
      "text/markdown": [
       "<span style=\"color:#33cc99\">Solution:</span> The scatter plot does not show a strong correlation between the two variables. Since there is no clear relationship between the two variables, this tells us that sugar content does not play a strong role in candy popularity."
      ],
      "text/plain": [
       "Solution: The scatter plot does not show a strong correlation between the two variables. Since there is no clear relationship between the two variables, this tells us that sugar content does not play a strong role in candy popularity."
      ]
     },
     "metadata": {},
     "output_type": "display_data"
    }
   ],
   "source": [
    "# Check your answer (Run this code cell to receive credit!)\n",
    "step_3.b.solution()"
   ]
  },
  {
   "cell_type": "markdown",
   "id": "b66bafbc",
   "metadata": {
    "papermill": {
     "duration": 0.00946,
     "end_time": "2023-06-26T11:44:52.695073",
     "exception": false,
     "start_time": "2023-06-26T11:44:52.685613",
     "status": "completed"
    },
    "tags": []
   },
   "source": [
    "## Step 4: Take a closer look\n",
    "\n",
    "#### Part A\n",
    "\n",
    "Create the same scatter plot you created in **Step 3**, but now with a regression line!"
   ]
  },
  {
   "cell_type": "code",
   "execution_count": 12,
   "id": "bc884b86",
   "metadata": {
    "execution": {
     "iopub.execute_input": "2023-06-26T11:44:52.716610Z",
     "iopub.status.busy": "2023-06-26T11:44:52.716239Z",
     "iopub.status.idle": "2023-06-26T11:44:53.032888Z",
     "shell.execute_reply": "2023-06-26T11:44:53.032074Z"
    },
    "papermill": {
     "duration": 0.330173,
     "end_time": "2023-06-26T11:44:53.035053",
     "exception": false,
     "start_time": "2023-06-26T11:44:52.704880",
     "status": "completed"
    },
    "tags": []
   },
   "outputs": [
    {
     "data": {
      "application/javascript": [
       "parent.postMessage({\"jupyterEvent\": \"custom.exercise_interaction\", \"data\": {\"outcomeType\": 1, \"valueTowardsCompletion\": 0.3333333333333333, \"interactionType\": 1, \"questionType\": 2, \"questionId\": \"4.1_PlotBlueReg\", \"learnToolsVersion\": \"0.3.4\", \"failureMessage\": \"\", \"exceptionClass\": \"\", \"trace\": \"\"}}, \"*\")"
      ],
      "text/plain": [
       "<IPython.core.display.Javascript object>"
      ]
     },
     "metadata": {},
     "output_type": "display_data"
    },
    {
     "data": {
      "text/markdown": [
       "<span style=\"color:#33cc33\">Correct</span>"
      ],
      "text/plain": [
       "Correct"
      ]
     },
     "metadata": {},
     "output_type": "display_data"
    },
    {
     "data": {
      "image/png": "[encoded data removed]",
      "text/plain": [
       "<Figure size 640x480 with 1 Axes>"
      ]
     },
     "metadata": {},
     "output_type": "display_data"
    }
   ],
   "source": [
    "# Scatter plot w/ regression line showing the relationship between 'sugarpercent' and 'winpercent'\n",
    "# Your code here\n",
    "sns.regplot(x=candy_data['sugarpercent'], y=candy_data['winpercent'])\n",
    "\n",
    "# Check your answer\n",
    "step_4.a.check()"
   ]
  },
  {
   "cell_type": "code",
   "execution_count": 13,
   "id": "aba34ba3",
   "metadata": {
    "execution": {
     "iopub.execute_input": "2023-06-26T11:44:53.058207Z",
     "iopub.status.busy": "2023-06-26T11:44:53.057414Z",
     "iopub.status.idle": "2023-06-26T11:44:53.061549Z",
     "shell.execute_reply": "2023-06-26T11:44:53.060656Z"
    },
    "papermill": {
     "duration": 0.01771,
     "end_time": "2023-06-26T11:44:53.063498",
     "exception": false,
     "start_time": "2023-06-26T11:44:53.045788",
     "status": "completed"
    },
    "tags": []
   },
   "outputs": [],
   "source": [
    "# Lines below will give you a hint or solution code\n",
    "#step_4.a.hint()\n",
    "#step_4.a.solution_plot()"
   ]
  },
  {
   "cell_type": "markdown",
   "id": "f924e4fe",
   "metadata": {
    "papermill": {
     "duration": 0.010344,
     "end_time": "2023-06-26T11:44:53.084540",
     "exception": false,
     "start_time": "2023-06-26T11:44:53.074196",
     "status": "completed"
    },
    "tags": []
   },
   "source": [
    "#### Part B\n",
    "\n",
    "According to the plot above, is there a **slight** correlation between `'winpercent'` and `'sugarpercent'`?  What does this tell you about the candy that people tend to prefer?"
   ]
  },
  {
   "cell_type": "code",
   "execution_count": 14,
   "id": "7af95d47",
   "metadata": {
    "execution": {
     "iopub.execute_input": "2023-06-26T11:44:53.107770Z",
     "iopub.status.busy": "2023-06-26T11:44:53.107024Z",
     "iopub.status.idle": "2023-06-26T11:44:53.111009Z",
     "shell.execute_reply": "2023-06-26T11:44:53.110050Z"
    },
    "papermill": {
     "duration": 0.017863,
     "end_time": "2023-06-26T11:44:53.112940",
     "exception": false,
     "start_time": "2023-06-26T11:44:53.095077",
     "status": "completed"
    },
    "tags": []
   },
   "outputs": [],
   "source": [
    "#step_4.b.hint()"
   ]
  },
  {
   "cell_type": "code",
   "execution_count": 15,
   "id": "d5d0d763",
   "metadata": {
    "execution": {
     "iopub.execute_input": "2023-06-26T11:44:53.137765Z",
     "iopub.status.busy": "2023-06-26T11:44:53.136705Z",
     "iopub.status.idle": "2023-06-26T11:44:53.145526Z",
     "shell.execute_reply": "2023-06-26T11:44:53.144512Z"
    },
    "papermill": {
     "duration": 0.023035,
     "end_time": "2023-06-26T11:44:53.147538",
     "exception": false,
     "start_time": "2023-06-26T11:44:53.124503",
     "status": "completed"
    },
    "tags": []
   },
   "outputs": [
    {
     "data": {
      "application/javascript": [
       "parent.postMessage({\"jupyterEvent\": \"custom.exercise_interaction\", \"data\": {\"interactionType\": 3, \"questionType\": 4, \"questionId\": \"4.2_ThinkBlueReg\", \"learnToolsVersion\": \"0.3.4\", \"valueTowardsCompletion\": 0.0, \"failureMessage\": \"\", \"exceptionClass\": \"\", \"trace\": \"\", \"outcomeType\": 4}}, \"*\")"
      ],
      "text/plain": [
       "<IPython.core.display.Javascript object>"
      ]
     },
     "metadata": {},
     "output_type": "display_data"
    },
    {
     "data": {
      "text/markdown": [
       "<span style=\"color:#33cc99\">Solution:</span> Since the regression line has a slightly positive slope, this tells us that there is a slightly positive correlation between `'winpercent'` and `'sugarpercent'`. Thus, people have a slight preference for candies containing relatively more sugar."
      ],
      "text/plain": [
       "Solution: Since the regression line has a slightly positive slope, this tells us that there is a slightly positive correlation between `'winpercent'` and `'sugarpercent'`. Thus, people have a slight preference for candies containing relatively more sugar."
      ]
     },
     "metadata": {},
     "output_type": "display_data"
    }
   ],
   "source": [
    "# Check your answer (Run this code cell to receive credit!)\n",
    "step_4.b.solution()"
   ]
  },
  {
   "cell_type": "markdown",
   "id": "9582f42f",
   "metadata": {
    "papermill": {
     "duration": 0.010419,
     "end_time": "2023-06-26T11:44:53.169102",
     "exception": false,
     "start_time": "2023-06-26T11:44:53.158683",
     "status": "completed"
    },
    "tags": []
   },
   "source": [
    "## Step 5: Chocolate!\n",
    "\n",
    "In the code cell below, create a scatter plot to show the relationship between `'pricepercent'` (on the horizontal x-axis) and `'winpercent'` (on the vertical y-axis). Use the `'chocolate'` column to color-code the points.  _Don't add any regression lines just yet -- you'll do that in the next step!_"
   ]
  },
  {
   "cell_type": "code",
   "execution_count": 16,
   "id": "9a40f054",
   "metadata": {
    "execution": {
     "iopub.execute_input": "2023-06-26T11:44:53.192392Z",
     "iopub.status.busy": "2023-06-26T11:44:53.191981Z",
     "iopub.status.idle": "2023-06-26T11:44:53.501342Z",
     "shell.execute_reply": "2023-06-26T11:44:53.500325Z"
    },
    "papermill": {
     "duration": 0.323553,
     "end_time": "2023-06-26T11:44:53.503434",
     "exception": false,
     "start_time": "2023-06-26T11:44:53.179881",
     "status": "completed"
    },
    "tags": []
   },
   "outputs": [
    {
     "data": {
      "application/javascript": [
       "parent.postMessage({\"jupyterEvent\": \"custom.exercise_interaction\", \"data\": {\"outcomeType\": 1, \"valueTowardsCompletion\": 0.3333333333333333, \"interactionType\": 1, \"questionType\": 2, \"questionId\": \"5_ColorScatter\", \"learnToolsVersion\": \"0.3.4\", \"failureMessage\": \"\", \"exceptionClass\": \"\", \"trace\": \"\"}}, \"*\")"
      ],
      "text/plain": [
       "<IPython.core.display.Javascript object>"
      ]
     },
     "metadata": {},
     "output_type": "display_data"
    },
    {
     "data": {
      "text/markdown": [
       "<span style=\"color:#33cc33\">Correct</span>"
      ],
      "text/plain": [
       "Correct"
      ]
     },
     "metadata": {},
     "output_type": "display_data"
    },
    {
     "data": {
      "image/png": "[encoded data removed]",
      "text/plain": [
       "<Figure size 640x480 with 1 Axes>"
      ]
     },
     "metadata": {},
     "output_type": "display_data"
    }
   ],
   "source": [
    "# Scatter plot showing the relationship between 'pricepercent', 'winpercent', and 'chocolate'\n",
    "# Your code here\n",
    "sns.scatterplot(x=candy_data['pricepercent'], y=candy_data['winpercent'], hue=candy_data['chocolate'])\n",
    "\n",
    "# Check your answer\n",
    "step_5.check()"
   ]
  },
  {
   "cell_type": "code",
   "execution_count": 17,
   "id": "183334b7",
   "metadata": {
    "execution": {
     "iopub.execute_input": "2023-06-26T11:44:53.528113Z",
     "iopub.status.busy": "2023-06-26T11:44:53.527739Z",
     "iopub.status.idle": "2023-06-26T11:44:53.531991Z",
     "shell.execute_reply": "2023-06-26T11:44:53.531255Z"
    },
    "papermill": {
     "duration": 0.018895,
     "end_time": "2023-06-26T11:44:53.533861",
     "exception": false,
     "start_time": "2023-06-26T11:44:53.514966",
     "status": "completed"
    },
    "tags": []
   },
   "outputs": [],
   "source": [
    "# Lines below will give you a hint or solution code\n",
    "#step_5.hint()\n",
    "#step_5.solution_plot()"
   ]
  },
  {
   "cell_type": "markdown",
   "id": "e37be30f",
   "metadata": {
    "papermill": {
     "duration": 0.011201,
     "end_time": "2023-06-26T11:44:53.556716",
     "exception": false,
     "start_time": "2023-06-26T11:44:53.545515",
     "status": "completed"
    },
    "tags": []
   },
   "source": [
    "Can you see any interesting patterns in the scatter plot?  We'll investigate this plot further  by adding regression lines in the next step!\n",
    "\n",
    "## Step 6: Investigate chocolate\n",
    "\n",
    "#### Part A\n",
    "\n",
    "Create the same scatter plot you created in **Step 5**, but now with two regression lines, corresponding to (1) chocolate candies and (2) candies without chocolate."
   ]
  },
  {
   "cell_type": "code",
   "execution_count": 18,
   "id": "df0dfde2",
   "metadata": {
    "execution": {
     "iopub.execute_input": "2023-06-26T11:44:53.582187Z",
     "iopub.status.busy": "2023-06-26T11:44:53.581116Z",
     "iopub.status.idle": "2023-06-26T11:44:54.265395Z",
     "shell.execute_reply": "2023-06-26T11:44:54.264366Z"
    },
    "papermill": {
     "duration": 0.699228,
     "end_time": "2023-06-26T11:44:54.267542",
     "exception": false,
     "start_time": "2023-06-26T11:44:53.568314",
     "status": "completed"
    },
    "tags": []
   },
   "outputs": [
    {
     "data": {
      "application/javascript": [
       "parent.postMessage({\"jupyterEvent\": \"custom.exercise_interaction\", \"data\": {\"outcomeType\": 1, \"valueTowardsCompletion\": 0.3333333333333333, \"interactionType\": 1, \"questionType\": 2, \"questionId\": \"6.1_PlotColorReg\", \"learnToolsVersion\": \"0.3.4\", \"failureMessage\": \"\", \"exceptionClass\": \"\", \"trace\": \"\"}}, \"*\")"
      ],
      "text/plain": [
       "<IPython.core.display.Javascript object>"
      ]
     },
     "metadata": {},
     "output_type": "display_data"
    },
    {
     "data": {
      "text/markdown": [
       "<span style=\"color:#33cc33\">Correct</span>"
      ],
      "text/plain": [
       "Correct"
      ]
     },
     "metadata": {},
     "output_type": "display_data"
    },
    {
     "data": {
      "image/png": "[encoded data removed]",
      "text/plain": [
       "<Figure size 578.611x500 with 1 Axes>"
      ]
     },
     "metadata": {},
     "output_type": "display_data"
    }
   ],
   "source": [
    "# Color-coded scatter plot w/ regression lines\n",
    "# Your code here\n",
    "sns.lmplot(x=\"pricepercent\", y=\"winpercent\", hue=\"chocolate\", data=candy_data)\n",
    "\n",
    "\n",
    "# Check your answer\n",
    "step_6.a.check()"
   ]
  },
  {
   "cell_type": "code",
   "execution_count": 19,
   "id": "dc52b93b",
   "metadata": {
    "execution": {
     "iopub.execute_input": "2023-06-26T11:44:54.294231Z",
     "iopub.status.busy": "2023-06-26T11:44:54.293821Z",
     "iopub.status.idle": "2023-06-26T11:44:54.298080Z",
     "shell.execute_reply": "2023-06-26T11:44:54.297041Z"
    },
    "papermill": {
     "duration": 0.020447,
     "end_time": "2023-06-26T11:44:54.300295",
     "exception": false,
     "start_time": "2023-06-26T11:44:54.279848",
     "status": "completed"
    },
    "tags": []
   },
   "outputs": [],
   "source": [
    "# Lines below will give you a hint or solution code\n",
    "#step_6.a.hint()\n",
    "#step_6.a.solution_plot()"
   ]
  },
  {
   "cell_type": "markdown",
   "id": "c2361b5a",
   "metadata": {
    "papermill": {
     "duration": 0.011882,
     "end_time": "2023-06-26T11:44:54.324579",
     "exception": false,
     "start_time": "2023-06-26T11:44:54.312697",
     "status": "completed"
    },
    "tags": []
   },
   "source": [
    "#### Part B\n",
    "\n",
    "Using the regression lines, what conclusions can you draw about the effects of chocolate and price on candy popularity?"
   ]
  },
  {
   "cell_type": "code",
   "execution_count": 20,
   "id": "95b6c0cf",
   "metadata": {
    "execution": {
     "iopub.execute_input": "2023-06-26T11:44:54.351561Z",
     "iopub.status.busy": "2023-06-26T11:44:54.351151Z",
     "iopub.status.idle": "2023-06-26T11:44:54.355878Z",
     "shell.execute_reply": "2023-06-26T11:44:54.354757Z"
    },
    "papermill": {
     "duration": 0.020769,
     "end_time": "2023-06-26T11:44:54.357955",
     "exception": false,
     "start_time": "2023-06-26T11:44:54.337186",
     "status": "completed"
    },
    "tags": []
   },
   "outputs": [],
   "source": [
    "#step_6.b.hint()"
   ]
  },
  {
   "cell_type": "code",
   "execution_count": 21,
   "id": "e74661ba",
   "metadata": {
    "execution": {
     "iopub.execute_input": "2023-06-26T11:44:54.384959Z",
     "iopub.status.busy": "2023-06-26T11:44:54.384593Z",
     "iopub.status.idle": "2023-06-26T11:44:54.392837Z",
     "shell.execute_reply": "2023-06-26T11:44:54.391846Z"
    },
    "papermill": {
     "duration": 0.02424,
     "end_time": "2023-06-26T11:44:54.394803",
     "exception": false,
     "start_time": "2023-06-26T11:44:54.370563",
     "status": "completed"
    },
    "tags": []
   },
   "outputs": [
    {
     "data": {
      "application/javascript": [
       "parent.postMessage({\"jupyterEvent\": \"custom.exercise_interaction\", \"data\": {\"interactionType\": 3, \"questionType\": 4, \"questionId\": \"6.2_ThinkColorReg\", \"learnToolsVersion\": \"0.3.4\", \"valueTowardsCompletion\": 0.0, \"failureMessage\": \"\", \"exceptionClass\": \"\", \"trace\": \"\", \"outcomeType\": 4}}, \"*\")"
      ],
      "text/plain": [
       "<IPython.core.display.Javascript object>"
      ]
     },
     "metadata": {},
     "output_type": "display_data"
    },
    {
     "data": {
      "text/markdown": [
       "<span style=\"color:#33cc99\">Solution:</span> We'll begin with the regression line for chocolate candies. Since this line has a slightly positive slope, we can say that more expensive chocolate candies tend to be more popular (than relatively cheaper chocolate candies).  Likewise, since the regression line for candies without chocolate has a negative slope, we can say that if candies don't contain chocolate, they tend to be more popular when they are cheaper.  One important note, however, is that the dataset is quite small -- so we shouldn't invest too much trust in these patterns!  To inspire more confidence in the results, we should add more candies to the dataset."
      ],
      "text/plain": [
       "Solution: We'll begin with the regression line for chocolate candies. Since this line has a slightly positive slope, we can say that more expensive chocolate candies tend to be more popular (than relatively cheaper chocolate candies).  Likewise, since the regression line for candies without chocolate has a negative slope, we can say that if candies don't contain chocolate, they tend to be more popular when they are cheaper.  One important note, however, is that the dataset is quite small -- so we shouldn't invest too much trust in these patterns!  To inspire more confidence in the results, we should add more candies to the dataset."
      ]
     },
     "metadata": {},
     "output_type": "display_data"
    }
   ],
   "source": [
    "# Check your answer (Run this code cell to receive credit!)\n",
    "step_6.b.solution()"
   ]
  },
  {
   "cell_type": "markdown",
   "id": "fccb44f9",
   "metadata": {
    "papermill": {
     "duration": 0.01282,
     "end_time": "2023-06-26T11:44:54.420891",
     "exception": false,
     "start_time": "2023-06-26T11:44:54.408071",
     "status": "completed"
    },
    "tags": []
   },
   "source": [
    "## Step 7: Everybody loves chocolate.\n",
    "\n",
    "#### Part A\n",
    "\n",
    "Create a categorical scatter plot to highlight the relationship between `'chocolate'` and `'winpercent'`.  Put `'chocolate'` on the (horizontal) x-axis, and `'winpercent'` on the (vertical) y-axis."
   ]
  },
  {
   "cell_type": "code",
   "execution_count": 22,
   "id": "187a8707",
   "metadata": {
    "execution": {
     "iopub.execute_input": "2023-06-26T11:44:54.448452Z",
     "iopub.status.busy": "2023-06-26T11:44:54.448074Z",
     "iopub.status.idle": "2023-06-26T11:44:54.742791Z",
     "shell.execute_reply": "2023-06-26T11:44:54.741770Z"
    },
    "papermill": {
     "duration": 0.312501,
     "end_time": "2023-06-26T11:44:54.746661",
     "exception": false,
     "start_time": "2023-06-26T11:44:54.434160",
     "status": "completed"
    },
    "tags": []
   },
   "outputs": [
    {
     "data": {
      "application/javascript": [
       "parent.postMessage({\"jupyterEvent\": \"custom.exercise_interaction\", \"data\": {\"outcomeType\": 1, \"valueTowardsCompletion\": 0.3333333333333333, \"interactionType\": 1, \"questionType\": 2, \"questionId\": \"7.1_PlotSwarm\", \"learnToolsVersion\": \"0.3.4\", \"failureMessage\": \"\", \"exceptionClass\": \"\", \"trace\": \"\"}}, \"*\")"
      ],
      "text/plain": [
       "<IPython.core.display.Javascript object>"
      ]
     },
     "metadata": {},
     "output_type": "display_data"
    },
    {
     "data": {
      "text/markdown": [
       "<span style=\"color:#33cc33\">Correct</span>"
      ],
      "text/plain": [
       "Correct"
      ]
     },
     "metadata": {},
     "output_type": "display_data"
    },
    {
     "data": {
      "image/png": "[encoded data removed]",
      "text/plain": [
       "<Figure size 640x480 with 1 Axes>"
      ]
     },
     "metadata": {},
     "output_type": "display_data"
    }
   ],
   "source": [
    "# Scatter plot showing the relationship between 'chocolate' and 'winpercent'\n",
    "# Your code here\n",
    "sns.swarmplot(x=candy_data['chocolate'], y=candy_data['winpercent'])\n",
    "\n",
    "# Check your answer\n",
    "step_7.a.check()"
   ]
  },
  {
   "cell_type": "code",
   "execution_count": 23,
   "id": "4e7baa8f",
   "metadata": {
    "execution": {
     "iopub.execute_input": "2023-06-26T11:44:54.775491Z",
     "iopub.status.busy": "2023-06-26T11:44:54.775107Z",
     "iopub.status.idle": "2023-06-26T11:44:54.779543Z",
     "shell.execute_reply": "2023-06-26T11:44:54.778522Z"
    },
    "papermill": {
     "duration": 0.02182,
     "end_time": "2023-06-26T11:44:54.782332",
     "exception": false,
     "start_time": "2023-06-26T11:44:54.760512",
     "status": "completed"
    },
    "tags": []
   },
   "outputs": [],
   "source": [
    "# Lines below will give you a hint or solution code\n",
    "#step_7.a.hint()\n",
    "#step_7.a.solution_plot()"
   ]
  },
  {
   "cell_type": "markdown",
   "id": "acc379d7",
   "metadata": {
    "papermill": {
     "duration": 0.012983,
     "end_time": "2023-06-26T11:44:54.808657",
     "exception": false,
     "start_time": "2023-06-26T11:44:54.795674",
     "status": "completed"
    },
    "tags": []
   },
   "source": [
    "#### Part B\n",
    "\n",
    "You decide to dedicate a section of your report to the fact that chocolate candies tend to be more popular than candies without chocolate.  Which plot is more appropriate to tell this story: the plot from **Step 6**, or the plot from **Step 7**?"
   ]
  },
  {
   "cell_type": "code",
   "execution_count": 24,
   "id": "8ec1ad6f",
   "metadata": {
    "execution": {
     "iopub.execute_input": "2023-06-26T11:44:54.836741Z",
     "iopub.status.busy": "2023-06-26T11:44:54.836353Z",
     "iopub.status.idle": "2023-06-26T11:44:54.840316Z",
     "shell.execute_reply": "2023-06-26T11:44:54.839590Z"
    },
    "papermill": {
     "duration": 0.021316,
     "end_time": "2023-06-26T11:44:54.843366",
     "exception": false,
     "start_time": "2023-06-26T11:44:54.822050",
     "status": "completed"
    },
    "tags": []
   },
   "outputs": [],
   "source": [
    "#step_7.b.hint()"
   ]
  },
  {
   "cell_type": "code",
   "execution_count": 25,
   "id": "2a6f31ec",
   "metadata": {
    "execution": {
     "iopub.execute_input": "2023-06-26T11:44:54.871566Z",
     "iopub.status.busy": "2023-06-26T11:44:54.871188Z",
     "iopub.status.idle": "2023-06-26T11:44:54.879735Z",
     "shell.execute_reply": "2023-06-26T11:44:54.878705Z"
    },
    "papermill": {
     "duration": 0.025182,
     "end_time": "2023-06-26T11:44:54.881850",
     "exception": false,
     "start_time": "2023-06-26T11:44:54.856668",
     "status": "completed"
    },
    "tags": []
   },
   "outputs": [
    {
     "data": {
      "application/javascript": [
       "parent.postMessage({\"jupyterEvent\": \"custom.exercise_interaction\", \"data\": {\"interactionType\": 3, \"questionType\": 4, \"questionId\": \"7.2_ThinkSwarm\", \"learnToolsVersion\": \"0.3.4\", \"valueTowardsCompletion\": 0.0, \"failureMessage\": \"\", \"exceptionClass\": \"\", \"trace\": \"\", \"outcomeType\": 4}}, \"*\")"
      ],
      "text/plain": [
       "<IPython.core.display.Javascript object>"
      ]
     },
     "metadata": {},
     "output_type": "display_data"
    },
    {
     "data": {
      "text/markdown": [
       "<span style=\"color:#33cc99\">Solution:</span> In this case, the categorical scatter plot from **Step 7** is the more appropriate plot. While both plots tell the desired story, the plot from **Step 6** conveys far more information that could distract from the main point."
      ],
      "text/plain": [
       "Solution: In this case, the categorical scatter plot from **Step 7** is the more appropriate plot. While both plots tell the desired story, the plot from **Step 6** conveys far more information that could distract from the main point."
      ]
     },
     "metadata": {},
     "output_type": "display_data"
    }
   ],
   "source": [
    "# Check your answer (Run this code cell to receive credit!)\n",
    "step_7.b.solution()"
   ]
  },
  {
   "cell_type": "markdown",
   "id": "0b93fe21",
   "metadata": {
    "papermill": {
     "duration": 0.013351,
     "end_time": "2023-06-26T11:44:54.908823",
     "exception": false,
     "start_time": "2023-06-26T11:44:54.895472",
     "status": "completed"
    },
    "tags": []
   },
   "source": [
    "## Keep going\n",
    "\n",
    "Explore **[histograms and density plots](https://www.kaggle.com/alexisbcook/distributions)**."
   ]
  },
  {
   "cell_type": "markdown",
   "id": "4791604a",
   "metadata": {
    "papermill": {
     "duration": 0.013086,
     "end_time": "2023-06-26T11:44:54.935655",
     "exception": false,
     "start_time": "2023-06-26T11:44:54.922569",
     "status": "completed"
    },
    "tags": []
   },
   "source": [
    "---\n",
    "\n",
    "\n",
    "\n",
    "\n",
    "*Have questions or comments? Visit the [course discussion forum](https://www.kaggle.com/learn/data-visualization/discussion) to chat with other learners.*"
   ]
  }
 ],
 "metadata": {
  "kernelspec": {
   "display_name": "Python 3",
   "language": "python",
   "name": "python3"
  },
  "language_info": {
   "codemirror_mode": {
    "name": "ipython",
    "version": 3
   },
   "file_extension": ".py",
   "mimetype": "text/x-python",
   "name": "python",
   "nbconvert_exporter": "python",
   "pygments_lexer": "ipython3",
   "version": "3.10.10"
  },
  "papermill": {
   "default_parameters": {},
   "duration": 14.854505,
   "end_time": "2023-06-26T11:44:55.870548",
   "environment_variables": {},
   "exception": null,
   "input_path": "__notebook__.ipynb",
   "output_path": "__notebook__.ipynb",
   "parameters": {},
   "start_time": "2023-06-26T11:44:41.016043",
   "version": "2.4.0"
  }
 },
 "nbformat": 4,
 "nbformat_minor": 5
}
