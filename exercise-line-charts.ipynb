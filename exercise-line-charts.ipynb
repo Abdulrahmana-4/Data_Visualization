{
 "cells": [
  {
   "cell_type": "markdown",
   "id": "dbbd22f1",
   "metadata": {
    "papermill": {
     "duration": 0.007464,
     "end_time": "2023-06-26T08:06:39.330997",
     "exception": false,
     "start_time": "2023-06-26T08:06:39.323533",
     "status": "completed"
    },
    "tags": []
   },
   "source": [
    "**This notebook is an exercise in the [Data Visualization](https://www.kaggle.com/learn/data-visualization) course.  You can reference the tutorial at [this link](https://www.kaggle.com/alexisbcook/line-charts).**\n",
    "\n",
    "---\n"
   ]
  },
  {
   "cell_type": "markdown",
   "id": "999d7bcc",
   "metadata": {
    "papermill": {
     "duration": 0.006909,
     "end_time": "2023-06-26T08:06:39.345515",
     "exception": false,
     "start_time": "2023-06-26T08:06:39.338606",
     "status": "completed"
    },
    "tags": []
   },
   "source": [
    "In this exercise, you will use your new knowledge to propose a solution to a real-world scenario. To succeed, you will need to import data into Python, answer questions using the data, and generate **line charts** to understand patterns in the data.\n",
    "\n",
    "## Scenario\n",
    "\n",
    "You have recently been hired to manage the museums in the City of Los Angeles. Your first project focuses on the four museums pictured in the images below.\n",
    "\n",
    "![ex1_museums](https://storage.googleapis.com/kaggle-media/learn/images/pFYL8J1.png)\n",
    "\n",
    "You will leverage data from the Los Angeles [Data Portal](https://data.lacity.org/) that tracks monthly visitors to each museum.  \n",
    "\n",
    "![ex1_xlsx](https://storage.googleapis.com/kaggle-media/learn/images/mGWYlym.png)\n",
    "\n",
    "## Setup\n",
    "\n",
    "Run the next cell to import and configure the Python libraries that you need to complete the exercise."
   ]
  },
  {
   "cell_type": "code",
   "execution_count": 1,
   "id": "3f6e2ef1",
   "metadata": {
    "execution": {
     "iopub.execute_input": "2023-06-26T08:06:39.362918Z",
     "iopub.status.busy": "2023-06-26T08:06:39.362044Z",
     "iopub.status.idle": "2023-06-26T08:06:40.791929Z",
     "shell.execute_reply": "2023-06-26T08:06:40.790238Z"
    },
    "papermill": {
     "duration": 1.441761,
     "end_time": "2023-06-26T08:06:40.794708",
     "exception": false,
     "start_time": "2023-06-26T08:06:39.352947",
     "status": "completed"
    },
    "tags": []
   },
   "outputs": [
    {
     "name": "stdout",
     "output_type": "stream",
     "text": [
      "Setup Complete\n"
     ]
    }
   ],
   "source": [
    "import pandas as pd\n",
    "pd.plotting.register_matplotlib_converters()\n",
    "import matplotlib.pyplot as plt\n",
    "%matplotlib inline\n",
    "import seaborn as sns\n",
    "print(\"Setup Complete\")"
   ]
  },
  {
   "cell_type": "markdown",
   "id": "fb8a8fee",
   "metadata": {
    "papermill": {
     "duration": 0.006947,
     "end_time": "2023-06-26T08:06:40.808884",
     "exception": false,
     "start_time": "2023-06-26T08:06:40.801937",
     "status": "completed"
    },
    "tags": []
   },
   "source": [
    "The questions below will give you feedback on your work. Run the following cell to set up the feedback system."
   ]
  },
  {
   "cell_type": "code",
   "execution_count": 2,
   "id": "194c4f00",
   "metadata": {
    "execution": {
     "iopub.execute_input": "2023-06-26T08:06:40.824947Z",
     "iopub.status.busy": "2023-06-26T08:06:40.824531Z",
     "iopub.status.idle": "2023-06-26T08:06:40.887751Z",
     "shell.execute_reply": "2023-06-26T08:06:40.886098Z"
    },
    "papermill": {
     "duration": 0.07414,
     "end_time": "2023-06-26T08:06:40.890178",
     "exception": false,
     "start_time": "2023-06-26T08:06:40.816038",
     "status": "completed"
    },
    "tags": []
   },
   "outputs": [
    {
     "name": "stdout",
     "output_type": "stream",
     "text": [
      "Setup Complete\n"
     ]
    }
   ],
   "source": [
    "# Set up code checking\n",
    "import os\n",
    "if not os.path.exists(\"../input/museum_visitors.csv\"):\n",
    "    os.symlink(\"../input/data-for-datavis/museum_visitors.csv\", \"../input/museum_visitors.csv\") \n",
    "from learntools.core import binder\n",
    "binder.bind(globals())\n",
    "from learntools.data_viz_to_coder.ex2 import *\n",
    "print(\"Setup Complete\")"
   ]
  },
  {
   "cell_type": "markdown",
   "id": "e0ae6fda",
   "metadata": {
    "papermill": {
     "duration": 0.006907,
     "end_time": "2023-06-26T08:06:40.905976",
     "exception": false,
     "start_time": "2023-06-26T08:06:40.899069",
     "status": "completed"
    },
    "tags": []
   },
   "source": [
    "## Step 1: Load the data\n",
    "\n",
    "Your first assignment is to read the LA Museum Visitors data file into `museum_data`.  Note that:\n",
    "- The filepath to the dataset is stored as `museum_filepath`.  Please **do not** change the provided value of the filepath.\n",
    "- The name of the column to use as row labels is `\"Date\"`.  (This can be seen in cell A1 when the file is opened in Excel.)\n",
    "\n",
    "To help with this, you may find it useful to revisit some relevant code from the tutorial, which we have pasted below:\n",
    "\n",
    "```python\n",
    "# Path of the file to read\n",
    "spotify_filepath = \"../input/spotify.csv\"\n",
    "\n",
    "# Read the file into a variable spotify_data\n",
    "spotify_data = pd.read_csv(spotify_filepath, index_col=\"Date\", parse_dates=True)\n",
    "```\n",
    "\n",
    "The code you need to write now looks very similar!"
   ]
  },
  {
   "cell_type": "code",
   "execution_count": 3,
   "id": "32258751",
   "metadata": {
    "execution": {
     "iopub.execute_input": "2023-06-26T08:06:40.922376Z",
     "iopub.status.busy": "2023-06-26T08:06:40.921753Z",
     "iopub.status.idle": "2023-06-26T08:06:40.938700Z",
     "shell.execute_reply": "2023-06-26T08:06:40.937529Z"
    },
    "papermill": {
     "duration": 0.027947,
     "end_time": "2023-06-26T08:06:40.941128",
     "exception": false,
     "start_time": "2023-06-26T08:06:40.913181",
     "status": "completed"
    },
    "tags": []
   },
   "outputs": [
    {
     "data": {
      "application/javascript": [
       "parent.postMessage({\"jupyterEvent\": \"custom.exercise_interaction\", \"data\": {\"outcomeType\": 1, \"valueTowardsCompletion\": 0.3333333333333333, \"interactionType\": 1, \"questionType\": 1, \"questionId\": \"1_LoadMuseumData\", \"learnToolsVersion\": \"0.3.4\", \"failureMessage\": \"\", \"exceptionClass\": \"\", \"trace\": \"\"}}, \"*\")"
      ],
      "text/plain": [
       "<IPython.core.display.Javascript object>"
      ]
     },
     "metadata": {},
     "output_type": "display_data"
    },
    {
     "data": {
      "text/markdown": [
       "<span style=\"color:#33cc33\">Correct</span>"
      ],
      "text/plain": [
       "Correct"
      ]
     },
     "metadata": {},
     "output_type": "display_data"
    }
   ],
   "source": [
    "# Path of the file to read\n",
    "museum_filepath = \"../input/museum_visitors.csv\"\n",
    "\n",
    "# Fill in the line below to read the file into a variable museum_data\n",
    "museum_data = pd.read_csv(museum_filepath,index_col='Date',parse_dates=True)\n",
    "\n",
    "# Run the line below with no changes to check that you've loaded the data correctly\n",
    "step_1.check()"
   ]
  },
  {
   "cell_type": "code",
   "execution_count": 4,
   "id": "d2141b93",
   "metadata": {
    "execution": {
     "iopub.execute_input": "2023-06-26T08:06:40.958620Z",
     "iopub.status.busy": "2023-06-26T08:06:40.958221Z",
     "iopub.status.idle": "2023-06-26T08:06:40.962925Z",
     "shell.execute_reply": "2023-06-26T08:06:40.961933Z"
    },
    "papermill": {
     "duration": 0.016429,
     "end_time": "2023-06-26T08:06:40.965278",
     "exception": false,
     "start_time": "2023-06-26T08:06:40.948849",
     "status": "completed"
    },
    "tags": []
   },
   "outputs": [],
   "source": [
    "# Uncomment the line below to receive a hint\n",
    "#step_1.hint()\n",
    "# Uncomment the line below to see the solution\n",
    "#step_1.solution()"
   ]
  },
  {
   "cell_type": "markdown",
   "id": "906b27bc",
   "metadata": {
    "papermill": {
     "duration": 0.007396,
     "end_time": "2023-06-26T08:06:40.980592",
     "exception": false,
     "start_time": "2023-06-26T08:06:40.973196",
     "status": "completed"
    },
    "tags": []
   },
   "source": [
    "## Step 2: Review the data\n",
    "\n",
    "Use a Python command to print the last 5 rows of the data."
   ]
  },
  {
   "cell_type": "code",
   "execution_count": 5,
   "id": "b4788a60",
   "metadata": {
    "execution": {
     "iopub.execute_input": "2023-06-26T08:06:40.998284Z",
     "iopub.status.busy": "2023-06-26T08:06:40.997503Z",
     "iopub.status.idle": "2023-06-26T08:06:41.021117Z",
     "shell.execute_reply": "2023-06-26T08:06:41.019879Z"
    },
    "papermill": {
     "duration": 0.035338,
     "end_time": "2023-06-26T08:06:41.023718",
     "exception": false,
     "start_time": "2023-06-26T08:06:40.988380",
     "status": "completed"
    },
    "tags": []
   },
   "outputs": [
    {
     "data": {
      "text/html": [
       "<div>\n",
       "<style scoped>\n",
       "    .dataframe tbody tr th:only-of-type {\n",
       "        vertical-align: middle;\n",
       "    }\n",
       "\n",
       "    .dataframe tbody tr th {\n",
       "        vertical-align: top;\n",
       "    }\n",
       "\n",
       "    .dataframe thead th {\n",
       "        text-align: right;\n",
       "    }\n",
       "</style>\n",
       "<table border=\"1\" class=\"dataframe\">\n",
       "  <thead>\n",
       "    <tr style=\"text-align: right;\">\n",
       "      <th></th>\n",
       "      <th>Avila Adobe</th>\n",
       "      <th>Firehouse Museum</th>\n",
       "      <th>Chinese American Museum</th>\n",
       "      <th>America Tropical Interpretive Center</th>\n",
       "    </tr>\n",
       "    <tr>\n",
       "      <th>Date</th>\n",
       "      <th></th>\n",
       "      <th></th>\n",
       "      <th></th>\n",
       "      <th></th>\n",
       "    </tr>\n",
       "  </thead>\n",
       "  <tbody>\n",
       "    <tr>\n",
       "      <th>2018-07-01</th>\n",
       "      <td>23136</td>\n",
       "      <td>4191</td>\n",
       "      <td>2620</td>\n",
       "      <td>4718</td>\n",
       "    </tr>\n",
       "    <tr>\n",
       "      <th>2018-08-01</th>\n",
       "      <td>20815</td>\n",
       "      <td>4866</td>\n",
       "      <td>2409</td>\n",
       "      <td>3891</td>\n",
       "    </tr>\n",
       "    <tr>\n",
       "      <th>2018-09-01</th>\n",
       "      <td>21020</td>\n",
       "      <td>4956</td>\n",
       "      <td>2146</td>\n",
       "      <td>3180</td>\n",
       "    </tr>\n",
       "    <tr>\n",
       "      <th>2018-10-01</th>\n",
       "      <td>19280</td>\n",
       "      <td>4622</td>\n",
       "      <td>2364</td>\n",
       "      <td>3775</td>\n",
       "    </tr>\n",
       "    <tr>\n",
       "      <th>2018-11-01</th>\n",
       "      <td>17163</td>\n",
       "      <td>4082</td>\n",
       "      <td>2385</td>\n",
       "      <td>4562</td>\n",
       "    </tr>\n",
       "  </tbody>\n",
       "</table>\n",
       "</div>"
      ],
      "text/plain": [
       "            Avila Adobe  Firehouse Museum  Chinese American Museum  \\\n",
       "Date                                                                 \n",
       "2018-07-01        23136              4191                     2620   \n",
       "2018-08-01        20815              4866                     2409   \n",
       "2018-09-01        21020              4956                     2146   \n",
       "2018-10-01        19280              4622                     2364   \n",
       "2018-11-01        17163              4082                     2385   \n",
       "\n",
       "            America Tropical Interpretive Center  \n",
       "Date                                              \n",
       "2018-07-01                                  4718  \n",
       "2018-08-01                                  3891  \n",
       "2018-09-01                                  3180  \n",
       "2018-10-01                                  3775  \n",
       "2018-11-01                                  4562  "
      ]
     },
     "execution_count": 5,
     "metadata": {},
     "output_type": "execute_result"
    }
   ],
   "source": [
    "# Print the last five rows of the data \n",
    "museum_data.tail() # Your code here"
   ]
  },
  {
   "cell_type": "markdown",
   "id": "4f0dbe56",
   "metadata": {
    "papermill": {
     "duration": 0.007743,
     "end_time": "2023-06-26T08:06:41.039681",
     "exception": false,
     "start_time": "2023-06-26T08:06:41.031938",
     "status": "completed"
    },
    "tags": []
   },
   "source": [
    "The last row (for `2018-11-01`) tracks the number of visitors to each museum in November 2018, the next-to-last row (for `2018-10-01`) tracks the number of visitors to each museum in October 2018, _and so on_.\n",
    "\n",
    "Use the last 5 rows of the data to answer the questions below."
   ]
  },
  {
   "cell_type": "code",
   "execution_count": 6,
   "id": "7b9d9d26",
   "metadata": {
    "execution": {
     "iopub.execute_input": "2023-06-26T08:06:41.058075Z",
     "iopub.status.busy": "2023-06-26T08:06:41.057664Z",
     "iopub.status.idle": "2023-06-26T08:06:41.067522Z",
     "shell.execute_reply": "2023-06-26T08:06:41.066406Z"
    },
    "papermill": {
     "duration": 0.021677,
     "end_time": "2023-06-26T08:06:41.069854",
     "exception": false,
     "start_time": "2023-06-26T08:06:41.048177",
     "status": "completed"
    },
    "tags": []
   },
   "outputs": [
    {
     "data": {
      "application/javascript": [
       "parent.postMessage({\"jupyterEvent\": \"custom.exercise_interaction\", \"data\": {\"outcomeType\": 1, \"valueTowardsCompletion\": 0.3333333333333333, \"interactionType\": 1, \"questionType\": 1, \"questionId\": \"2_ReviewData\", \"learnToolsVersion\": \"0.3.4\", \"failureMessage\": \"\", \"exceptionClass\": \"\", \"trace\": \"\"}}, \"*\")"
      ],
      "text/plain": [
       "<IPython.core.display.Javascript object>"
      ]
     },
     "metadata": {},
     "output_type": "display_data"
    },
    {
     "data": {
      "text/markdown": [
       "<span style=\"color:#33cc33\">Correct</span>"
      ],
      "text/plain": [
       "Correct"
      ]
     },
     "metadata": {},
     "output_type": "display_data"
    }
   ],
   "source": [
    "# Fill in the line below: How many visitors did the Chinese American Museum \n",
    "# receive in July 2018?\n",
    "ca_museum_jul18 = 2620\n",
    "\n",
    "# Fill in the line below: In October 2018, how many more visitors did Avila \n",
    "# Adobe receive than the Firehouse Museum?\n",
    "avila_oct18 = 19280-4622\n",
    "\n",
    "# Check your answers\n",
    "step_2.check()"
   ]
  },
  {
   "cell_type": "code",
   "execution_count": 7,
   "id": "caaeb3d1",
   "metadata": {
    "execution": {
     "iopub.execute_input": "2023-06-26T08:06:41.088676Z",
     "iopub.status.busy": "2023-06-26T08:06:41.088215Z",
     "iopub.status.idle": "2023-06-26T08:06:41.094045Z",
     "shell.execute_reply": "2023-06-26T08:06:41.092598Z"
    },
    "papermill": {
     "duration": 0.018743,
     "end_time": "2023-06-26T08:06:41.096895",
     "exception": false,
     "start_time": "2023-06-26T08:06:41.078152",
     "status": "completed"
    },
    "tags": []
   },
   "outputs": [],
   "source": [
    "# Lines below will give you a hint or solution code\n",
    "#step_2.hint()\n",
    "#step_2.solution()"
   ]
  },
  {
   "cell_type": "markdown",
   "id": "e23b150f",
   "metadata": {
    "papermill": {
     "duration": 0.008252,
     "end_time": "2023-06-26T08:06:41.113716",
     "exception": false,
     "start_time": "2023-06-26T08:06:41.105464",
     "status": "completed"
    },
    "tags": []
   },
   "source": [
    "## Step 3: Convince the museum board \n",
    "\n",
    "The Firehouse Museum claims they ran an event in 2014 that brought an incredible number of visitors, and that they should get extra budget to run a similar event again.  The other museums think these types of events aren't that important, and budgets should be split purely based on recent visitors on an average day.  \n",
    "\n",
    "To show the museum board how the event compared to regular traffic at each museum, create a line chart that shows how the number of visitors to each museum evolved over time.  Your figure should have four lines (one for each museum).\n",
    "\n",
    "> **(Optional) Note**: If you have some prior experience with plotting figures in Python, you might be familiar with the `plt.show()` command.  If you decide to use this command, please place it **after** the line of code that checks your answer (in this case, place it after `step_3.check()` below) -- otherwise, the checking code will return an error!"
   ]
  },
  {
   "cell_type": "code",
   "execution_count": 8,
   "id": "a22aea60",
   "metadata": {
    "execution": {
     "iopub.execute_input": "2023-06-26T08:06:41.132329Z",
     "iopub.status.busy": "2023-06-26T08:06:41.131901Z",
     "iopub.status.idle": "2023-06-26T08:06:41.679657Z",
     "shell.execute_reply": "2023-06-26T08:06:41.678516Z"
    },
    "papermill": {
     "duration": 0.560115,
     "end_time": "2023-06-26T08:06:41.682321",
     "exception": false,
     "start_time": "2023-06-26T08:06:41.122206",
     "status": "completed"
    },
    "tags": []
   },
   "outputs": [
    {
     "data": {
      "application/javascript": [
       "parent.postMessage({\"jupyterEvent\": \"custom.exercise_interaction\", \"data\": {\"outcomeType\": 1, \"valueTowardsCompletion\": 0.3333333333333333, \"interactionType\": 1, \"questionType\": 2, \"questionId\": \"3_PlotAll\", \"learnToolsVersion\": \"0.3.4\", \"failureMessage\": \"\", \"exceptionClass\": \"\", \"trace\": \"\"}}, \"*\")"
      ],
      "text/plain": [
       "<IPython.core.display.Javascript object>"
      ]
     },
     "metadata": {},
     "output_type": "display_data"
    },
    {
     "data": {
      "text/markdown": [
       "<span style=\"color:#33cc33\">Correct</span>"
      ],
      "text/plain": [
       "Correct"
      ]
     },
     "metadata": {},
     "output_type": "display_data"
    },
    {
     "data": {
      "image/png": "[encoded data removed]",
      "text/plain": [
       "<Figure size 640x480 with 1 Axes>"
      ]
     },
     "metadata": {},
     "output_type": "display_data"
    }
   ],
   "source": [
    "# Line chart showing the number of visitors to each museum over time\n",
    "# Your code here\n",
    "sns.lineplot(data=museum_data['Avila Adobe'], label=\"Avila Adobe\")\n",
    "sns.lineplot(data=museum_data['Firehouse Museum'], label=\"Firehouse Museum\")\n",
    "sns.lineplot(data=museum_data['Chinese American Museum'], label=\"Chinese American Museum\")\n",
    "sns.lineplot(data=museum_data['America Tropical Interpretive Center'], label=\"America Tropical Interpretive Center\")\n",
    "\n",
    "\n",
    "# Check your answer\n",
    "step_3.check()"
   ]
  },
  {
   "cell_type": "code",
   "execution_count": 9,
   "id": "38f2a246",
   "metadata": {
    "execution": {
     "iopub.execute_input": "2023-06-26T08:06:41.706098Z",
     "iopub.status.busy": "2023-06-26T08:06:41.705445Z",
     "iopub.status.idle": "2023-06-26T08:06:41.709485Z",
     "shell.execute_reply": "2023-06-26T08:06:41.708516Z"
    },
    "papermill": {
     "duration": 0.01942,
     "end_time": "2023-06-26T08:06:41.711764",
     "exception": false,
     "start_time": "2023-06-26T08:06:41.692344",
     "status": "completed"
    },
    "tags": []
   },
   "outputs": [],
   "source": [
    "# Lines below will give you a hint or solution code\n",
    "#step_3.hint()\n",
    "#step_3.solution_plot()"
   ]
  },
  {
   "cell_type": "markdown",
   "id": "05074402",
   "metadata": {
    "papermill": {
     "duration": 0.009808,
     "end_time": "2023-06-26T08:06:41.731585",
     "exception": false,
     "start_time": "2023-06-26T08:06:41.721777",
     "status": "completed"
    },
    "tags": []
   },
   "source": [
    "## Step 4: Assess seasonality\n",
    "\n",
    "When meeting with the employees at Avila Adobe, you hear that one major pain point is that the number of museum visitors varies greatly with the seasons, with low seasons (when the employees are perfectly staffed and happy) and also high seasons (when the employees are understaffed and stressed).  You realize that if you can predict these high and low seasons, you can plan ahead to hire some additional seasonal employees to help out with the extra work.\n",
    "\n",
    "#### Part A\n",
    "Create a line chart that shows how the number of visitors to Avila Adobe has evolved over time.  (_If your code returns an error, the first thing that you should check is that you've spelled the name of the column correctly!  You must write the name of the column exactly as it appears in the dataset._)"
   ]
  },
  {
   "cell_type": "code",
   "execution_count": 10,
   "id": "2dde56ed",
   "metadata": {
    "execution": {
     "iopub.execute_input": "2023-06-26T08:06:41.752920Z",
     "iopub.status.busy": "2023-06-26T08:06:41.752498Z",
     "iopub.status.idle": "2023-06-26T08:06:42.185646Z",
     "shell.execute_reply": "2023-06-26T08:06:42.184480Z"
    },
    "papermill": {
     "duration": 0.447252,
     "end_time": "2023-06-26T08:06:42.188731",
     "exception": false,
     "start_time": "2023-06-26T08:06:41.741479",
     "status": "completed"
    },
    "tags": []
   },
   "outputs": [
    {
     "name": "stdout",
     "output_type": "stream",
     "text": [
      "Thank you for creating a line chart!  To see how your code compares to the official solution, please use the code cell below.\n"
     ]
    },
    {
     "data": {
      "application/javascript": [
       "parent.postMessage({\"jupyterEvent\": \"custom.exercise_interaction\", \"data\": {\"outcomeType\": 1, \"valueTowardsCompletion\": 0.3333333333333333, \"interactionType\": 1, \"questionType\": 2, \"questionId\": \"4.1_PlotAvila\", \"learnToolsVersion\": \"0.3.4\", \"failureMessage\": \"\", \"exceptionClass\": \"\", \"trace\": \"\"}}, \"*\")"
      ],
      "text/plain": [
       "<IPython.core.display.Javascript object>"
      ]
     },
     "metadata": {},
     "output_type": "display_data"
    },
    {
     "data": {
      "text/markdown": [
       "<span style=\"color:#33cc33\">Correct</span>"
      ],
      "text/plain": [
       "Correct"
      ]
     },
     "metadata": {},
     "output_type": "display_data"
    },
    {
     "data": {
      "image/png": "[encoded data removed]",
      "text/plain": [
       "<Figure size 640x480 with 1 Axes>"
      ]
     },
     "metadata": {},
     "output_type": "display_data"
    }
   ],
   "source": [
    "# Line plot showing the number of visitors to Avila Adobe over time\n",
    "sns.lineplot(data=museum_data['Avila Adobe'], label=\"Avila Adobe\") # Your code here\n",
    "\n",
    "# Check your answer\n",
    "step_4.a.check()"
   ]
  },
  {
   "cell_type": "code",
   "execution_count": 11,
   "id": "23b7978f",
   "metadata": {
    "execution": {
     "iopub.execute_input": "2023-06-26T08:06:42.212545Z",
     "iopub.status.busy": "2023-06-26T08:06:42.212155Z",
     "iopub.status.idle": "2023-06-26T08:06:42.215854Z",
     "shell.execute_reply": "2023-06-26T08:06:42.215072Z"
    },
    "papermill": {
     "duration": 0.018211,
     "end_time": "2023-06-26T08:06:42.217943",
     "exception": false,
     "start_time": "2023-06-26T08:06:42.199732",
     "status": "completed"
    },
    "tags": []
   },
   "outputs": [],
   "source": [
    "# Lines below will give you a hint or solution code\n",
    "#step_4.a.hint()\n",
    "#step_4.a.solution_plot()"
   ]
  },
  {
   "cell_type": "markdown",
   "id": "6ee39057",
   "metadata": {
    "papermill": {
     "duration": 0.011614,
     "end_time": "2023-06-26T08:06:42.240684",
     "exception": false,
     "start_time": "2023-06-26T08:06:42.229070",
     "status": "completed"
    },
    "tags": []
   },
   "source": [
    "#### Part B\n",
    "\n",
    "Does Avila Adobe get more visitors:\n",
    "- in September-February (in LA, the fall and winter months), or \n",
    "- in March-August (in LA, the spring and summer)?  \n",
    "\n",
    "Using this information, when should the museum staff additional seasonal employees?"
   ]
  },
  {
   "cell_type": "code",
   "execution_count": 12,
   "id": "13a56846",
   "metadata": {
    "execution": {
     "iopub.execute_input": "2023-06-26T08:06:42.265475Z",
     "iopub.status.busy": "2023-06-26T08:06:42.264711Z",
     "iopub.status.idle": "2023-06-26T08:06:42.268801Z",
     "shell.execute_reply": "2023-06-26T08:06:42.268065Z"
    },
    "papermill": {
     "duration": 0.0192,
     "end_time": "2023-06-26T08:06:42.270922",
     "exception": false,
     "start_time": "2023-06-26T08:06:42.251722",
     "status": "completed"
    },
    "tags": []
   },
   "outputs": [],
   "source": [
    "#step_4.b.hint()"
   ]
  },
  {
   "cell_type": "code",
   "execution_count": 13,
   "id": "19e7a291",
   "metadata": {
    "execution": {
     "iopub.execute_input": "2023-06-26T08:06:42.295193Z",
     "iopub.status.busy": "2023-06-26T08:06:42.294409Z",
     "iopub.status.idle": "2023-06-26T08:06:42.302539Z",
     "shell.execute_reply": "2023-06-26T08:06:42.301734Z"
    },
    "papermill": {
     "duration": 0.02269,
     "end_time": "2023-06-26T08:06:42.304667",
     "exception": false,
     "start_time": "2023-06-26T08:06:42.281977",
     "status": "completed"
    },
    "tags": []
   },
   "outputs": [
    {
     "data": {
      "application/javascript": [
       "parent.postMessage({\"jupyterEvent\": \"custom.exercise_interaction\", \"data\": {\"interactionType\": 3, \"questionType\": 4, \"questionId\": \"4.2_ThinkAvila\", \"learnToolsVersion\": \"0.3.4\", \"valueTowardsCompletion\": 0.0, \"failureMessage\": \"\", \"exceptionClass\": \"\", \"trace\": \"\", \"outcomeType\": 4}}, \"*\")"
      ],
      "text/plain": [
       "<IPython.core.display.Javascript object>"
      ]
     },
     "metadata": {},
     "output_type": "display_data"
    },
    {
     "data": {
      "text/markdown": [
       "<span style=\"color:#33cc99\">Solution:</span> The line chart generally dips to relatively low values around the early part of each year (in December and January), and reaches its highest values in the middle of the year (especially around May and June).  Thus, Avila Adobe usually gets more visitors in March-August (or the spring and summer months).  With this in mind, Avila Adobe could definitely benefit from hiring more seasonal employees to help with the extra work in March-August (the spring and summer)!"
      ],
      "text/plain": [
       "Solution: The line chart generally dips to relatively low values around the early part of each year (in December and January), and reaches its highest values in the middle of the year (especially around May and June).  Thus, Avila Adobe usually gets more visitors in March-August (or the spring and summer months).  With this in mind, Avila Adobe could definitely benefit from hiring more seasonal employees to help with the extra work in March-August (the spring and summer)!"
      ]
     },
     "metadata": {},
     "output_type": "display_data"
    }
   ],
   "source": [
    "# Check your answer (Run this code cell to receive credit!)\n",
    "step_4.b.solution()"
   ]
  },
  {
   "cell_type": "markdown",
   "id": "dceb6a7b",
   "metadata": {
    "papermill": {
     "duration": 0.010992,
     "end_time": "2023-06-26T08:06:42.327394",
     "exception": false,
     "start_time": "2023-06-26T08:06:42.316402",
     "status": "completed"
    },
    "tags": []
   },
   "source": [
    "# Keep going\n",
    "\n",
    "Move on to learn about **[bar charts and heatmaps](https://www.kaggle.com/alexisbcook/bar-charts-and-heatmaps)** with a new dataset!"
   ]
  },
  {
   "cell_type": "markdown",
   "id": "2d261981",
   "metadata": {
    "papermill": {
     "duration": 0.011583,
     "end_time": "2023-06-26T08:06:42.350247",
     "exception": false,
     "start_time": "2023-06-26T08:06:42.338664",
     "status": "completed"
    },
    "tags": []
   },
   "source": [
    "---\n",
    "\n",
    "\n",
    "\n",
    "\n",
    "*Have questions or comments? Visit the [course discussion forum](https://www.kaggle.com/learn/data-visualization/discussion) to chat with other learners.*"
   ]
  }
 ],
 "metadata": {
  "kernelspec": {
   "display_name": "Python 3",
   "language": "python",
   "name": "python3"
  },
  "language_info": {
   "codemirror_mode": {
    "name": "ipython",
    "version": 3
   },
   "file_extension": ".py",
   "mimetype": "text/x-python",
   "name": "python",
   "nbconvert_exporter": "python",
   "pygments_lexer": "ipython3",
   "version": "3.10.10"
  },
  "papermill": {
   "default_parameters": {},
   "duration": 16.350176,
   "end_time": "2023-06-26T08:06:43.384821",
   "environment_variables": {},
   "exception": null,
   "input_path": "__notebook__.ipynb",
   "output_path": "__notebook__.ipynb",
   "parameters": {},
   "start_time": "2023-06-26T08:06:27.034645",
   "version": "2.4.0"
  }
 },
 "nbformat": 4,
 "nbformat_minor": 5
}
